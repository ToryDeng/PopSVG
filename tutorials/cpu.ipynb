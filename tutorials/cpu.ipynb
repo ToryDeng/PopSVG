{
 "cells": [
  {
   "cell_type": "code",
   "execution_count": 1,
   "id": "6025001b",
   "metadata": {},
   "outputs": [],
   "source": [
    "import warnings\n",
    "warnings.filterwarnings(\"ignore\")\n",
    "import scanpy as sc\n",
    "from popsvg import preprocess_slices, spatial_lag_regression_cpu, TwoStageExpectationMaximizer"
   ]
  },
  {
   "cell_type": "code",
   "execution_count": 2,
   "id": "b137ee44",
   "metadata": {},
   "outputs": [
    {
     "data": {
      "text/plain": [
       "[AnnData object with n_obs × n_vars = 400 × 1000\n",
       "     obs: 'subject'\n",
       "     obsm: 'spatial',\n",
       " AnnData object with n_obs × n_vars = 400 × 1000\n",
       "     obs: 'subject'\n",
       "     obsm: 'spatial',\n",
       " AnnData object with n_obs × n_vars = 400 × 1000\n",
       "     obs: 'subject'\n",
       "     obsm: 'spatial',\n",
       " AnnData object with n_obs × n_vars = 400 × 1000\n",
       "     obs: 'subject'\n",
       "     obsm: 'spatial',\n",
       " AnnData object with n_obs × n_vars = 400 × 1000\n",
       "     obs: 'subject'\n",
       "     obsm: 'spatial']"
      ]
     },
     "execution_count": 2,
     "metadata": {},
     "output_type": "execute_result"
    }
   ],
   "source": [
    "combined_adata = sc.read_h5ad(\"data/tutorial_data.h5ad\")\n",
    "adatas= [combined_adata[combined_adata.obs[\"subject\"] == subject].copy() for subject in combined_adata.obs[\"subject\"].unique()]\n",
    "adatas"
   ]
  },
  {
   "cell_type": "code",
   "execution_count": 3,
   "id": "d1b17ba4",
   "metadata": {},
   "outputs": [
    {
     "data": {
      "application/vnd.jupyter.widget-view+json": {
       "model_id": "882aea8acbc74199b7f076f93c33c572",
       "version_major": 2,
       "version_minor": 0
      },
      "text/plain": [
       "Checking slices:   0%|          | 0/5 [00:00<?, ?it/s]"
      ]
     },
     "metadata": {},
     "output_type": "display_data"
    },
    {
     "data": {
      "application/vnd.jupyter.widget-view+json": {
       "model_id": "23b4842ef44a4f73acf5795aaeecdf0b",
       "version_major": 2,
       "version_minor": 0
      },
      "text/plain": [
       "Filtering features and normalizing in slices:   0%|          | 0/5 [00:00<?, ?it/s]"
      ]
     },
     "metadata": {},
     "output_type": "display_data"
    },
    {
     "name": "stdout",
     "output_type": "stream",
     "text": [
      "Preserved 1000 features after dropping mito and low-expressed features in all slices.\n",
      "Features in all slices have been log-normalized.\n"
     ]
    }
   ],
   "source": [
    "preprocess_slices(adatas, coord_type=\"square\")"
   ]
  },
  {
   "cell_type": "code",
   "execution_count": 4,
   "id": "d6f07bcc",
   "metadata": {},
   "outputs": [
    {
     "data": {
      "application/vnd.jupyter.widget-view+json": {
       "model_id": "554782428c5e48daa5878fc578476bae",
       "version_major": 2,
       "version_minor": 0
      },
      "text/plain": [
       "Fitting spatial lag regression on each slice:   0%|          | 0/5 [00:00<?, ?it/s]"
      ]
     },
     "metadata": {},
     "output_type": "display_data"
    },
    {
     "data": {
      "application/vnd.jupyter.widget-view+json": {
       "model_id": "73154cba8fa14266aba83f0ecec6cda9",
       "version_major": 2,
       "version_minor": 0
      },
      "text/plain": [
       "Computing matrix power series:   0%|          | 0/9 [00:00<?, ?it/s]"
      ]
     },
     "metadata": {},
     "output_type": "display_data"
    },
    {
     "data": {
      "application/vnd.jupyter.widget-view+json": {
       "model_id": "2781f4e2d96d4ebb89617102e0d00aad",
       "version_major": 2,
       "version_minor": 0
      },
      "text/plain": [
       "Computing matrix power series:   0%|          | 0/9 [00:00<?, ?it/s]"
      ]
     },
     "metadata": {},
     "output_type": "display_data"
    },
    {
     "data": {
      "application/vnd.jupyter.widget-view+json": {
       "model_id": "c4f10182941f47b8b75998aa66700b54",
       "version_major": 2,
       "version_minor": 0
      },
      "text/plain": [
       "Computing matrix power series:   0%|          | 0/9 [00:00<?, ?it/s]"
      ]
     },
     "metadata": {},
     "output_type": "display_data"
    },
    {
     "data": {
      "application/vnd.jupyter.widget-view+json": {
       "model_id": "35f2c36f6bb8436297255d22600a1de9",
       "version_major": 2,
       "version_minor": 0
      },
      "text/plain": [
       "Computing matrix power series:   0%|          | 0/9 [00:00<?, ?it/s]"
      ]
     },
     "metadata": {},
     "output_type": "display_data"
    },
    {
     "data": {
      "application/vnd.jupyter.widget-view+json": {
       "model_id": "d8d096c924d34c3282d51be6bbf5b679",
       "version_major": 2,
       "version_minor": 0
      },
      "text/plain": [
       "Computing matrix power series:   0%|          | 0/9 [00:00<?, ?it/s]"
      ]
     },
     "metadata": {},
     "output_type": "display_data"
    },
    {
     "name": "stdout",
     "output_type": "stream",
     "text": [
      "Stage 1 iteration 001 - log LL change:   inf | current log LL: 1.202244\n",
      "Stage 1 iteration 002 - log LL change: 0.033446 | current log LL: 1.235690\n",
      "Stage 1 iteration 003 - log LL change: 0.017540 | current log LL: 1.253230\n",
      "Stage 1 iteration 004 - log LL change: 0.011108 | current log LL: 1.264338\n",
      "Stage 1 iteration 005 - log LL change: 0.007784 | current log LL: 1.272123\n",
      "Stage 1 iteration 006 - log LL change: 0.005803 | current log LL: 1.277926\n",
      "Stage 1 iteration 007 - log LL change: 0.004508 | current log LL: 1.282434\n",
      "Stage 1 iteration 008 - log LL change: 0.003607 | current log LL: 1.286041\n",
      "Stage 1 iteration 009 - log LL change: 0.002952 | current log LL: 1.288993\n",
      "Stage 1 iteration 010 - log LL change: 0.002459 | current log LL: 1.291452\n",
      "Stage 1 iteration 011 - log LL change: 0.002080 | current log LL: 1.293532\n",
      "Stage 1 iteration 012 - log LL change: 0.001782 | current log LL: 1.295314\n",
      "Stage 1 iteration 013 - log LL change: 0.001542 | current log LL: 1.296856\n",
      "Stage 1 iteration 014 - log LL change: 0.001348 | current log LL: 1.298204\n",
      "Stage 1 iteration 015 - log LL change: 0.001188 | current log LL: 1.299392\n",
      "Stage 1 iteration 016 - log LL change: 0.001054 | current log LL: 1.300446\n",
      "Stage 1 iteration 017 - log LL change: 0.000941 | current log LL: 1.301387\n",
      "Stage 1 converged!\n",
      "Stage 2 iteration 001 - log LL change:   inf | current log LL: 1.277133\n",
      "Stage 2 iteration 002 - log LL change: 0.000000 | current log LL: 1.277133\n",
      "Stage 2 converged!\n"
     ]
    }
   ],
   "source": [
    "stats = spatial_lag_regression_cpu(adatas, n_workers=1)\n",
    "X, kappa2 = stats[\"all_alpha\"], stats[\"all_alpha_var\"]\n",
    "est = TwoStageExpectationMaximizer(max_iter=200, n_workers=1, rho_cutoff=0.25)\n",
    "est.fit(X, kappa2)"
   ]
  },
  {
   "cell_type": "code",
   "execution_count": 5,
   "id": "3f6e9349",
   "metadata": {},
   "outputs": [
    {
     "name": "stdout",
     "output_type": "stream",
     "text": [
      "(1000,) (1000, 2)\n"
     ]
    }
   ],
   "source": [
    "print(est.means_.shape, est.weights_.shape)"
   ]
  },
  {
   "cell_type": "code",
   "execution_count": 6,
   "id": "af4c3900",
   "metadata": {},
   "outputs": [
    {
     "name": "stdout",
     "output_type": "stream",
     "text": [
      "(1000, 2)\n"
     ]
    }
   ],
   "source": [
    "print(est.predict_proba(X).shape)"
   ]
  }
 ],
 "metadata": {
  "kernelspec": {
   "display_name": "experiment",
   "language": "python",
   "name": "python3"
  },
  "language_info": {
   "codemirror_mode": {
    "name": "ipython",
    "version": 3
   },
   "file_extension": ".py",
   "mimetype": "text/x-python",
   "name": "python",
   "nbconvert_exporter": "python",
   "pygments_lexer": "ipython3",
   "version": "3.12.0"
  }
 },
 "nbformat": 4,
 "nbformat_minor": 5
}
