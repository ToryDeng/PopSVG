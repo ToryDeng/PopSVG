{
 "cells": [
  {
   "cell_type": "code",
   "execution_count": 1,
   "id": "cb86f13a",
   "metadata": {},
   "outputs": [
    {
     "data": {
      "text/plain": [
       "'gpu'"
      ]
     },
     "execution_count": 1,
     "metadata": {},
     "output_type": "execute_result"
    }
   ],
   "source": [
    "import jax\n",
    "jax.default_backend()"
   ]
  },
  {
   "cell_type": "code",
   "execution_count": 2,
   "id": "fed30240",
   "metadata": {},
   "outputs": [],
   "source": [
    "import warnings\n",
    "warnings.filterwarnings(\"ignore\")\n",
    "import scanpy as sc\n",
    "from popsvg import preprocess_slices, spatial_lag_regression_gpu, TwoStageExpectationMaximizer"
   ]
  },
  {
   "cell_type": "code",
   "execution_count": 3,
   "id": "fa2f29a1",
   "metadata": {},
   "outputs": [
    {
     "data": {
      "text/plain": [
       "[AnnData object with n_obs × n_vars = 400 × 1000\n",
       "     obs: 'subject'\n",
       "     obsm: 'spatial',\n",
       " AnnData object with n_obs × n_vars = 400 × 1000\n",
       "     obs: 'subject'\n",
       "     obsm: 'spatial',\n",
       " AnnData object with n_obs × n_vars = 400 × 1000\n",
       "     obs: 'subject'\n",
       "     obsm: 'spatial',\n",
       " AnnData object with n_obs × n_vars = 400 × 1000\n",
       "     obs: 'subject'\n",
       "     obsm: 'spatial',\n",
       " AnnData object with n_obs × n_vars = 400 × 1000\n",
       "     obs: 'subject'\n",
       "     obsm: 'spatial']"
      ]
     },
     "execution_count": 3,
     "metadata": {},
     "output_type": "execute_result"
    }
   ],
   "source": [
    "combined_adata = sc.read_h5ad(\"data/tutorial_data.h5ad\")\n",
    "adatas= [combined_adata[combined_adata.obs[\"subject\"] == subject].copy() for subject in combined_adata.obs[\"subject\"].unique()]\n",
    "adatas"
   ]
  },
  {
   "cell_type": "code",
   "execution_count": 4,
   "id": "a7168991",
   "metadata": {},
   "outputs": [
    {
     "data": {
      "application/vnd.jupyter.widget-view+json": {
       "model_id": "cfbeb651fca545b286c22c11ce39a3c9",
       "version_major": 2,
       "version_minor": 0
      },
      "text/plain": [
       "Checking slices:   0%|          | 0/5 [00:00<?, ?it/s]"
      ]
     },
     "metadata": {},
     "output_type": "display_data"
    },
    {
     "data": {
      "application/vnd.jupyter.widget-view+json": {
       "model_id": "895cffac8a984d39b2cdb51c36b9efac",
       "version_major": 2,
       "version_minor": 0
      },
      "text/plain": [
       "Filtering features and normalizing in slices:   0%|          | 0/5 [00:00<?, ?it/s]"
      ]
     },
     "metadata": {},
     "output_type": "display_data"
    },
    {
     "name": "stdout",
     "output_type": "stream",
     "text": [
      "Preserved 1000 features after dropping mito and low-expressed features in all slices.\n",
      "Features in all slices have been log-normalized.\n"
     ]
    }
   ],
   "source": [
    "preprocess_slices(adatas, coord_type=\"square\")"
   ]
  },
  {
   "cell_type": "code",
   "execution_count": 5,
   "id": "faecf439",
   "metadata": {},
   "outputs": [
    {
     "data": {
      "application/vnd.jupyter.widget-view+json": {
       "model_id": "47e1fe5412b94f9fa3ad8aaa9f4d6080",
       "version_major": 2,
       "version_minor": 0
      },
      "text/plain": [
       "Fitting spatial lag regression on each slice:   0%|          | 0/5 [00:00<?, ?it/s]"
      ]
     },
     "metadata": {},
     "output_type": "display_data"
    },
    {
     "data": {
      "application/vnd.jupyter.widget-view+json": {
       "model_id": "0bfa1d8a7f7149b8898614763f3f1bb0",
       "version_major": 2,
       "version_minor": 0
      },
      "text/plain": [
       "Computing matrix power series:   0%|          | 0/9 [00:00<?, ?it/s]"
      ]
     },
     "metadata": {},
     "output_type": "display_data"
    },
    {
     "data": {
      "application/vnd.jupyter.widget-view+json": {
       "model_id": "836554661b7f4e57b280849374da2f6b",
       "version_major": 2,
       "version_minor": 0
      },
      "text/plain": [
       "Computing matrix power series:   0%|          | 0/9 [00:00<?, ?it/s]"
      ]
     },
     "metadata": {},
     "output_type": "display_data"
    },
    {
     "data": {
      "application/vnd.jupyter.widget-view+json": {
       "model_id": "ed772c787fc649fa9667424b73826bdb",
       "version_major": 2,
       "version_minor": 0
      },
      "text/plain": [
       "Computing matrix power series:   0%|          | 0/9 [00:00<?, ?it/s]"
      ]
     },
     "metadata": {},
     "output_type": "display_data"
    },
    {
     "data": {
      "application/vnd.jupyter.widget-view+json": {
       "model_id": "033d6d66fe6c451cbd3b9019d47ad861",
       "version_major": 2,
       "version_minor": 0
      },
      "text/plain": [
       "Computing matrix power series:   0%|          | 0/9 [00:00<?, ?it/s]"
      ]
     },
     "metadata": {},
     "output_type": "display_data"
    },
    {
     "data": {
      "application/vnd.jupyter.widget-view+json": {
       "model_id": "308832a52aa2424a86c7f0d11cecc25f",
       "version_major": 2,
       "version_minor": 0
      },
      "text/plain": [
       "Computing matrix power series:   0%|          | 0/9 [00:00<?, ?it/s]"
      ]
     },
     "metadata": {},
     "output_type": "display_data"
    },
    {
     "name": "stdout",
     "output_type": "stream",
     "text": [
      "Stage 1 iteration 001 - log LL change:   inf | current log LL: 1.202240\n",
      "Stage 1 iteration 002 - log LL change: 0.033446 | current log LL: 1.235685\n",
      "Stage 1 iteration 003 - log LL change: 0.017540 | current log LL: 1.253225\n",
      "Stage 1 iteration 004 - log LL change: 0.011108 | current log LL: 1.264333\n",
      "Stage 1 iteration 005 - log LL change: 0.007784 | current log LL: 1.272118\n",
      "Stage 1 iteration 006 - log LL change: 0.005803 | current log LL: 1.277921\n",
      "Stage 1 iteration 007 - log LL change: 0.004508 | current log LL: 1.282429\n",
      "Stage 1 iteration 008 - log LL change: 0.003607 | current log LL: 1.286036\n",
      "Stage 1 iteration 009 - log LL change: 0.002952 | current log LL: 1.288988\n",
      "Stage 1 iteration 010 - log LL change: 0.002459 | current log LL: 1.291447\n",
      "Stage 1 iteration 011 - log LL change: 0.002080 | current log LL: 1.293527\n",
      "Stage 1 iteration 012 - log LL change: 0.001782 | current log LL: 1.295309\n",
      "Stage 1 iteration 013 - log LL change: 0.001542 | current log LL: 1.296851\n",
      "Stage 1 iteration 014 - log LL change: 0.001348 | current log LL: 1.298199\n",
      "Stage 1 iteration 015 - log LL change: 0.001188 | current log LL: 1.299387\n",
      "Stage 1 iteration 016 - log LL change: 0.001054 | current log LL: 1.300441\n",
      "Stage 1 iteration 017 - log LL change: 0.000941 | current log LL: 1.301382\n",
      "Stage 1 converged!\n",
      "Stage 2 iteration 001 - log LL change:   inf | current log LL: 1.277088\n",
      "Stage 2 iteration 002 - log LL change: 0.000000 | current log LL: 1.277088\n",
      "Stage 2 converged!\n"
     ]
    }
   ],
   "source": [
    "stats = spatial_lag_regression_gpu(adatas)\n",
    "X, kappa2 = stats[\"all_alpha\"], stats[\"all_alpha_var\"]\n",
    "est = TwoStageExpectationMaximizer(max_iter=200, n_workers=1, rho_cutoff=0.25)\n",
    "est.fit(X, kappa2)"
   ]
  },
  {
   "cell_type": "code",
   "execution_count": 6,
   "id": "7ceefd06",
   "metadata": {},
   "outputs": [
    {
     "name": "stdout",
     "output_type": "stream",
     "text": [
      "(1000,) (1000, 2)\n"
     ]
    }
   ],
   "source": [
    "print(est.means_.shape, est.weights_.shape)"
   ]
  },
  {
   "cell_type": "code",
   "execution_count": 7,
   "id": "fd5aa587",
   "metadata": {},
   "outputs": [
    {
     "name": "stdout",
     "output_type": "stream",
     "text": [
      "(1000, 2)\n"
     ]
    }
   ],
   "source": [
    "print(est.predict_proba(X).shape)"
   ]
  }
 ],
 "metadata": {
  "kernelspec": {
   "display_name": "experiment",
   "language": "python",
   "name": "python3"
  },
  "language_info": {
   "codemirror_mode": {
    "name": "ipython",
    "version": 3
   },
   "file_extension": ".py",
   "mimetype": "text/x-python",
   "name": "python",
   "nbconvert_exporter": "python",
   "pygments_lexer": "ipython3",
   "version": "3.12.0"
  }
 },
 "nbformat": 4,
 "nbformat_minor": 5
}
